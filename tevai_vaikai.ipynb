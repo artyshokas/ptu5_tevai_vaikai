{
 "cells": [
  {
   "cell_type": "code",
   "execution_count": 1,
   "metadata": {},
   "outputs": [],
   "source": [
    "from sqlalchemy.orm import sessionmaker\n",
    "from models import engine, Tevas, Vaikas\n",
    "\n",
    "session = sessionmaker(engine)()"
   ]
  },
  {
   "cell_type": "code",
   "execution_count": 2,
   "metadata": {},
   "outputs": [],
   "source": [
    "naujas_tevas = Tevas(vardas=\"Kietas\", pavarde=\"Vyras\")\n",
    "naujas_vaikas = Vaikas(\n",
    "    vardas=\"Sustras\", \n",
    "    pavarde=\"Vyras\", \n",
    "    tevas=naujas_tevas,\n",
    "    mokymo_istaiga=\"CodeAcademy\",\n",
    ")\n",
    "session.add(naujas_tevas)\n",
    "session.add(naujas_vaikas)\n",
    "session.commit()"
   ]
  },
  {
   "cell_type": "code",
   "execution_count": 3,
   "metadata": {},
   "outputs": [
    {
     "name": "stdout",
     "output_type": "stream",
     "text": [
      "[(1, Emilija, Januskeviciute, (1, Kestutis, Januskevicius)),\n",
      " (2, Ivaikintas, Superinis, (1, Kestutis, Januskevicius)),\n",
      " (3, Sustras, Vyras, (2, Kietas, Vyras))]\n"
     ]
    }
   ],
   "source": [
    "from pprint import pprint\n",
    "vaikai = session.query(Vaikas).all()\n",
    "pprint(vaikai)"
   ]
  },
  {
   "cell_type": "code",
   "execution_count": 7,
   "metadata": {},
   "outputs": [
    {
     "data": {
      "text/plain": [
       "[(1, Emilija, Januskeviciute, (1, Kestutis, Januskevicius)),\n",
       " (2, Ivaikintas, Superinis, (2, Kietas, Vyras)),\n",
       " (3, Sustras, Vyras, (2, Kietas, Vyras))]"
      ]
     },
     "execution_count": 7,
     "metadata": {},
     "output_type": "execute_result"
    }
   ],
   "source": [
    "vaikai[1].tevas = session.query(Tevas).get(2)\n",
    "session.commit()\n",
    "vaikai"
   ]
  }
 ],
 "metadata": {
  "kernelspec": {
   "display_name": "Python 3.8.10 ('venv': venv)",
   "language": "python",
   "name": "python3"
  },
  "language_info": {
   "codemirror_mode": {
    "name": "ipython",
    "version": 3
   },
   "file_extension": ".py",
   "mimetype": "text/x-python",
   "name": "python",
   "nbconvert_exporter": "python",
   "pygments_lexer": "ipython3",
   "version": "3.8.10"
  },
  "orig_nbformat": 4,
  "vscode": {
   "interpreter": {
    "hash": "30d5a12e8bd8c0f793437b8c8a16499d471ddf3536a4edc80b5e177206615b38"
   }
  }
 },
 "nbformat": 4,
 "nbformat_minor": 2
}
